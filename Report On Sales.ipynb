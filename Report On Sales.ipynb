{
 "cells": [
  {
   "cell_type": "markdown",
   "metadata": {},
   "source": [
    "<br>\n",
    "<div style=\"text-align: center; font-size: 36px; font-weight: bold;\">\n",
    "    Sales Analytics Project\n",
    "</div>\n",
    "<br><br>"
   ]
  },
  {
   "cell_type": "markdown",
   "metadata": {},
   "source": [
    "<div style=\"font-size: 16px;\">\n",
    "    <h3>Problem Statement</h3>\n",
    "    <p>AtliQ Hardwares, a company specializing in the sale of electronics across India, operates in over 10 cities and serves all 5 regions of the country. Recently, the company has experienced a significant decline in its sales performance. In an effort to identify the underlying causes of this decline, the Marketing Director has requested a detailed sales report for the years 2017 to 2020.</p>\n",
    "    <p>However, the sales department's data is currently stored in multiple Excel files, which presents a challenge for the Marketing Director to effectively analyze the data and isolate the key factors contributing to the drop in sales. The need to streamline and organize the data for better insights has become a priority to enable informed decision-making and corrective actions.</p>\n",
    "</div>\n"
   ]
  },
  {
   "cell_type": "markdown",
   "metadata": {},
   "source": [
    "<div style=\"font-size: 16px;\">\n",
    "    <h3>Proposed Solution</h3>\n",
    "    <p>To address the challenges in analyzing the sales data, the Marketing Director convenes a meeting with other senior executives. During the meeting, the director proposes the hiring of a dedicated team of data analysts. This team will be tasked with cleaning, processing, and analyzing the sales data, ultimately developing a comprehensive dashboard to provide a clearer and more actionable insight into the sales trends. The goal is to gain a deeper understanding of the factors affecting sales performance and facilitate data-driven decision-making moving forward.</p>\n",
    "</div>\n",
    "<br><br>"
   ]
  },
  {
   "cell_type": "markdown",
   "metadata": {},
   "source": [
    "<br>\n",
    "<div style=\"text-align: center; font-size: 26px; font-weight: bold;\">\n",
    "    AIMS Grid\n",
    "</div>\n",
    "<br><br><br>\n",
    "\n",
    "\n",
    "<div style=\"display: grid; grid-template-columns: repeat(2, 1fr); gap: 20px; font-size: 14px;\">\n",
    "  <div style=\"padding: 20px; border: 1px solid black; text-align: center;\">\n",
    "    <strong style=\"font-size: 16px;\">Purpose</strong><br>\n",
    "    <p>The goal is to uncover previously hidden sales insights that can provide valuable decision support for the sales team. By automating the process, we aim to reduce the time spent on manual data gathering, thereby increasing operational efficiency and enabling the team to focus on more strategic tasks.</p>\n",
    "  </div>\n",
    "  <div style=\"padding: 20px; border: 1px solid black; text-align: center;\">\n",
    "    <strong style=\"font-size: 16px; display: block;\">Shareholders</strong>\n",
    "    <ul style=\"text-align: left; margin: 0 auto; display: block; text-align: left;\">\n",
    "        <li>Sales Director</li>\n",
    "        <li>Marketing Director</li>\n",
    "        <li>Customer Service Team</li>\n",
    "        <li>Data and Analytics Team</li>\n",
    "        <li>IT Department</li>\n",
    "    </ul>\n",
    "  </div>\n",
    "\n",
    "  <div style=\"padding: 20px; border: 1px solid black; text-align: center;\">\n",
    "    <strong style=\"font-size: 16px;\">End Results</strong><br>\n",
    "    <p>The implementation of an automated dashboard provides real-time sales insights, enabling swift access to the latest data. This tool is designed to support data-driven decision-making by offering a comprehensive overview of sales performance, helping stakeholders make informed decisions based on up-to-date information.</p>\n",
    "  </div>\n",
    "  <div style=\"padding: 20px; border: 1px solid black; text-align: center;\">\n",
    "    <strong style=\"font-size: 16px; display: block;\">Success Criteria</strong>\n",
    "    <br>\n",
    "    <ul style=\"text-align: left; margin: 0 auto; display: inline-block; text-align: left;\">\n",
    "        <li>Dashboard uncovering sales order insights with the latest data available.</li>\n",
    "        <li>Sales team able to take better decisions and achieve 10% cost savings of total spend.</li>\n",
    "        <li>Sales analysts stop data gathering manually to save 20% of their business time and reinvest it in value-added activities.</li>\n",
    "    </ul>\n",
    "  </div>\n",
    "</div>\n"
   ]
  },
  {
   "cell_type": "markdown",
   "metadata": {},
   "source": [
    "<br><br>\n",
    "<br>\n",
    "<div style=\"text-align: center; font-size: 34px; font-weight: bold;\">\n",
    "    Flowchart\n",
    "</div>\n",
    "\n",
    "\n",
    "<div style=\"text-align: center;\">\n",
    "    <img src=\"res/saleFC.png\" alt=\"Image description\" style=\"width:100%; height:auto;\">\n",
    "</div>\n"
   ]
  },
  {
   "cell_type": "markdown",
   "metadata": {},
   "source": [
    "<div style=\"font-size: 14px;\">\n",
    "  <div style=\"padding: 20px; border: 0.5px solid black; text-align: center;\">\n",
    "    <strong style=\"font-size: 16px;\">Data Extraction</strong>\n",
    "    <p style=\"text-align: justify;\">The required data is retrieved from AtliQ Hardware's central database, ensuring all relevant information is available for further processing.</p>\n",
    "  </div>\n",
    "  \n",
    "  <div style=\"padding: 20px; border: 1px solid black; text-align: center;\">\n",
    "    <strong style=\"font-size: 16px;\">Data Warehousing</strong>\n",
    "    <p style=\"text-align: justify;\">A dedicated data warehouse is constructed to store the extracted data. This data warehouse serves as a centralized repository, providing a stable foundation for analysis.</p>\n",
    "  </div>\n",
    "\n",
    "  <div style=\"padding: 20px; border: 1px solid black; text-align: center;\">\n",
    "    <strong style=\"font-size: 16px;\">Data Cleaning and Transformation</strong>\n",
    "    <p style=\"text-align: justify;\">The data undergoes a rigorous ETL (Extract, Transform, Load) process, where redundant entries are identified and eliminated. This step ensures the dataset is accurate, consistent, and ready for analytical use. The primary objective of the data warehouse is to allow the analytics team to perform data analysis and dashboard creation without impacting the original records.</p>\n",
    "  </div>\n",
    "\n",
    "  <div style=\"padding: 20px; border: 1px solid black; text-align: center;\">\n",
    "    <strong style=\"font-size: 16px;\">Dashboard Development</strong>\n",
    "    <p style=\"text-align: justify;\">Using the processed data from the warehouse, an interactive and insightful dashboard is designed and developed in Microsoft Power BI. This dashboard enables the stakeholders to make informed decisions based on the latest data insights.</p>\n",
    "  </div>\n",
    "</div>\n"
   ]
  },
  {
   "cell_type": "markdown",
   "metadata": {},
   "source": [
    "<br>\n",
    "<br><br> \n",
    "<div style=\"font-size: 18px;\">\n",
    "  <h3 style=\"font-size: 26px; text-align: center; font-weight: bold;\">Issues Encountered During the ETL Process and Their Applied Solutions</h3>\n",
    "\n",
    "<br>\n",
    "<style>\n",
    "  h3 {\n",
    "    font-size: 17px; /* Reduced by 2 points from the default */\n",
    "  }\n",
    "  p {\n",
    "    font-size: 15px; /* Reduced by 2 points from the default */\n",
    "  }\n",
    "</style>\n",
    "\n",
    "<br>\n",
    "<h3>Issue #1: Transactions Table with USD Entries</h3>\n",
    "<p><strong>Problem:</strong> A number of transactions were recorded in USD.</p>\n",
    "<p><strong>Solution:</strong> These were converted to INR using a conversion rate of 80 to ensure uniformity in the dataset.</p>\n",
    "\n",
    "<br>\n",
    "<h3>Issue #2: Markets Table with Incorrect Business Entries</h3>\n",
    "<p><strong>Problem:</strong> The Markets table contained entries for New York and Paris, which were flagged as erroneous by the sales team.</p>\n",
    "<p><strong>Solution:</strong> It was confirmed that AtliQ Hardware had no sales in these locations, so these entries were removed.</p>\n",
    "\n",
    "<br>\n",
    "<h3>Issue #3: Transactions Table with Invalid Sales Amounts</h3>\n",
    "<p><strong>Problem:</strong> Several transactions had sales amounts less than or equal to zero.</p>\n",
    "<p><strong>Solution:</strong> After reviewing the dataset, it was found that these transactions were fewer than 100 in total. Consequently, these records were removed from the transactions table.</p>\n",
    "\n",
    "<br>\n",
    "<h3>Issue #4: Duplicate USD Transactions in the Transactions Table</h3>\n",
    "<p><strong>Solution:</strong> Duplicate transactions in USD were identified and eliminated, ensuring that each transaction appeared only once in the table.</p>\n",
    "\n",
    "<br><br>\n",
    "\n"
   ]
  },
  {
   "cell_type": "markdown",
   "metadata": {},
   "source": [
    "<div style=\"text-align: center; font-size: 26px; font-weight: bold;\">\n",
    "    Establishing Relation In Database Tables\n",
    "</div>"
   ]
  },
  {
   "cell_type": "markdown",
   "metadata": {},
   "source": [
    "<div style=\"text-align: left; font-size: 16px;\">\n",
    "    <p><strong>Upon thorough examination of the tables in the data warehouse, it was determined that the following relationships could be established between the tables:</strong></p>\n",
    "    <ul>\n",
    "        <li><strong>customer_code</strong>: From <code>sales_customers</code> to <code>customer_code</code> in <code>sales_transactions</code>.</li>\n",
    "        <li><strong>product_code</strong>: From <code>sales_products</code> to <code>product_code</code> in <code>sales_transactions</code>.</li>\n",
    "        <li><strong>market_code</strong>: From <code>sales_markets</code> to <code>market_code</code> in <code>sales_transactions</code>.</li>\n",
    "        <li><strong>date</strong>: From <code>sales_date</code> to <code>order_date</code> in <code>sales_transactions</code>.</li>\n",
    "    </ul>\n",
    "    <br> <!-- This adds space between the previous content and the following paragraph -->\n",
    "    <br> <!-- This adds space between the previous content and the following paragraph -->\n",
    "    <p><strong>Based on these relationships, a star schema was created to optimize data organization and facilitate efficient querying.</strong></p>\n",
    "</div>\n"
   ]
  },
  {
   "cell_type": "markdown",
   "metadata": {},
   "source": [
    "<div style=\"text-align: center; padding: 10px; margin: 20px;\">\n",
    "    <img src=\"res/schema.png\" alt=\"Image Description\" style=\"width: 90%; height: 100%; margin: 20px;\">\n",
    "</div>\n"
   ]
  },
  {
   "cell_type": "markdown",
   "metadata": {},
   "source": [
    "<div style=\"padding: 20px; font-size: 14px; line-height: 1.6;\">\n",
    "  <h2 style=\"text-align: center; font-size: 26px; font-weight: bold;\">Final Result</h2>\n",
    "  <br>\n",
    "\n",
    "  <p style=\"font-size: 16px;\">\n",
    "    An <strong>interactive dashboard</strong> was developed using the sales data from the warehouse, presenting key insights such as <strong>revenue trends</strong>, <strong>total revenue</strong>, and the <strong>quantity of sales made</strong>. The dashboard allowed users to analyze data for each month of every year from <strong>2017 to 2020</strong>. Additionally, it highlighted the <strong>top 5 customers</strong> and <strong>top 5 products</strong> sold in each year.\n",
    "  </p>\n",
    "  <p style=\"font-size: 16px;\">\n",
    "    This comprehensive tool enabled the <strong>Marketing Director</strong> and the <strong>Sales Team</strong> to effectively identify the factors contributing to the decline in sales. These included <strong>regions with declining sales</strong>, <strong>underperforming products</strong>, and any other <strong>transactional issues</strong>. The insights provided by the dashboard empowered the team to make <strong>data-driven decisions</strong> and implement <strong>corrective measures</strong>.\n",
    "  </p>\n",
    "</div>\n"
   ]
  }
 ],
 "metadata": {
  "language_info": {
   "name": "python"
  }
 },
 "nbformat": 4,
 "nbformat_minor": 2
}
